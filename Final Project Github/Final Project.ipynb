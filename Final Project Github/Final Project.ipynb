{
 "cells": [
  {
   "cell_type": "markdown",
   "metadata": {},
   "source": [
    "# Final Project - Constrained, Multi-Objective, & Non-Linear Least Squares\n",
    "### Modeling & Optimization\n",
    "### Ethan Witkowski"
   ]
  },
  {
   "cell_type": "markdown",
   "metadata": {},
   "source": [
    "## Part I"
   ]
  },
  {
   "cell_type": "code",
   "execution_count": null,
   "metadata": {},
   "outputs": [],
   "source": []
  },
  {
   "cell_type": "markdown",
   "metadata": {},
   "source": [
    "## Part II"
   ]
  },
  {
   "cell_type": "code",
   "execution_count": 1,
   "metadata": {},
   "outputs": [],
   "source": [
    "import matplotlib.pyplot as plt\n",
    "import numpy as np"
   ]
  },
  {
   "cell_type": "markdown",
   "metadata": {},
   "source": [
    "### 13.3"
   ]
  },
  {
   "cell_type": "markdown",
   "metadata": {},
   "source": [
    "a)"
   ]
  },
  {
   "cell_type": "code",
   "execution_count": 14,
   "metadata": {},
   "outputs": [],
   "source": [
    "#Define data values - number of transistors, year\n",
    "Years = np.array([1971, 1972, 1974, 1978, 1982, 1985, 1989, 1993, 1997, 1999, 2000, 2002, 2003])\n",
    "Transistors = np.array([2250, 2500, 5000, 29000, 120000, 275000, 1180000, 3100000, 7500000, 24000000, \\\n",
    "                        42000000, 220000000, 410000000])\n",
    "\n",
    "#Take log of number of transistors\n",
    "Transistors = np.log(Transistors)"
   ]
  },
  {
   "cell_type": "markdown",
   "metadata": {},
   "source": [
    "Least Squares Solution:\n",
    "<br>\n",
    "\n",
    "$\\hat{\\theta} = (A^{T}A)^{-1}A^{T}y^{d}$\n",
    "\n",
    "Root Mean Square Error:\n",
    "<br>\n",
    "\n",
    "$RMSE = \\sqrt{\\cfrac{\\|y^{d}-A\\theta\\|^{2}}{N}}$"
   ]
  },
  {
   "cell_type": "code",
   "execution_count": 38,
   "metadata": {},
   "outputs": [],
   "source": [
    "#Define A matrix\n",
    "\n",
    "#Pre-allocate A\n",
    "A = np.empty([len(Years), 2])\n",
    "\n",
    "#Place in time series data\n",
    "for i,year in enumerate(Years):\n",
    "\n",
    "    A[i] = np.array([1, year])"
   ]
  },
  {
   "cell_type": "code",
   "execution_count": 49,
   "metadata": {},
   "outputs": [],
   "source": [
    "#Define observed y\n",
    "\n",
    "#Pre-allocate obeserved y\n",
    "y_d = np.empty([len(Transistors), 1])\n",
    "\n",
    "#Place in actual transistor data\n",
    "for i,transistor in enumerate(Transistors):\n",
    "\n",
    "    y_d[i] = np.array([transistor])"
   ]
  },
  {
   "cell_type": "code",
   "execution_count": 39,
   "metadata": {},
   "outputs": [],
   "source": [
    "#Least Squares Solution\n",
    "\n",
    "LS_step_1 = np.linalg.inv(np.matmul(np.transpose(A), A))\n",
    "\n",
    "LS_step_2 = np.matmul(LS_step_1, np.transpose(A))\n",
    "\n",
    "LS_step_3 = np.matmul(LS_step_2, y_d)\n",
    "\n",
    "theta_hat = LS_step_3"
   ]
  },
  {
   "cell_type": "code",
   "execution_count": 23,
   "metadata": {},
   "outputs": [],
   "source": [
    "#Prediction values \n",
    "\n",
    "Years = np.array([1971, 1972, 1974, 1978, 1982, 1985, 1989, 1993, 1997, 1999, 2000, 2002, 2003])\n",
    "LS_transistor = np.empty([len(Years)])\n",
    "\n",
    "for i,year in enumerate(Years):\n",
    "\n",
    "    LS_transistor[i] = (theta_hat[0][0])+((theta_hat[1][0])*(year))"
   ]
  },
  {
   "cell_type": "code",
   "execution_count": 26,
   "metadata": {},
   "outputs": [],
   "source": [
    "#Root Mean Square Error\n",
    "\n",
    "#Number of observations\n",
    "N = len(Transistors)\n",
    "\n",
    "#RSME calculation\n",
    "rmse = np.sqrt(np.linalg.norm(LS_transistor - Transistors) / N)"
   ]
  },
  {
   "cell_type": "markdown",
   "metadata": {},
   "source": [
    "RMS minimizing $\\theta_{1} = -691.44$\n",
    "<br>\n",
    "\n",
    "RMS minimizing $\\theta_{2} = 0.355$\n",
    "<br> \n",
    "\n",
    "RMS error $= .360$"
   ]
  },
  {
   "cell_type": "code",
   "execution_count": 48,
   "metadata": {
    "scrolled": true
   },
   "outputs": [
    {
     "data": {
      "text/plain": [
       "<function matplotlib.pyplot.show(*args, **kw)>"
      ]
     },
     "execution_count": 48,
     "metadata": {},
     "output_type": "execute_result"
    },
    {
     "data": {
      "image/png": "[encoded data removed]",
      "text/plain": [
       "<Figure size 432x288 with 1 Axes>"
      ]
     },
     "metadata": {
      "needs_background": "light"
     },
     "output_type": "display_data"
    }
   ],
   "source": [
    "#Plotting data and prediction\n",
    "\n",
    "#Continuous time, pre-allocation\n",
    "continuous_year = np.arange(1970,2020)\n",
    "LS_cont_transistor = np.empty([len(continuous_year)])\n",
    "\n",
    "#Prediction\n",
    "for j,cont_year in enumerate(continuous_year):\n",
    "\n",
    "    LS_cont_transistor[j] = (theta_hat[0][0])+((theta_hat[1][0])*(cont_year))\n",
    "    \n",
    "#Plotting\n",
    "plt.scatter(Years, Transistors)\n",
    "plt.xlabel('Year')\n",
    "plt.ylabel('Log Transistors per CPU')\n",
    "plt.title('Log Transistors per CPU across Time')\n",
    "plt.xlim([1969,2005])\n",
    "plt.ylim([0,25])\n",
    "\n",
    "plt.plot(continuous_year, LS_cont_transistor)\n",
    "plt.show"
   ]
  },
  {
   "cell_type": "markdown",
   "metadata": {},
   "source": [
    "b)"
   ]
  },
  {
   "cell_type": "code",
   "execution_count": 50,
   "metadata": {},
   "outputs": [],
   "source": [
    "#Prediction for 2015\n",
    "\n",
    "#Declare year, pre-allocation\n",
    "year_2015 = np.array([2015])\n",
    "LS_2015_transistor = np.empty([len(year_2015)])\n",
    "\n",
    "#Prediction 2015\n",
    "for k,year in enumerate(year_2015):\n",
    "\n",
    "    LS_2015_transistor[k] = (theta_hat[0][0])+((theta_hat[1][0])*(year))\n",
    "\n",
    "#Reverse logarithmic transformation\n",
    "LS_2015_transistor = np.exp(LS_2015_transistor)"
   ]
  },
  {
   "cell_type": "markdown",
   "metadata": {},
   "source": [
    "The predicted number of transistors per CPU in 2015 is $1.14 \\times 10^{10}$. The predicted value is $7.4 \\times 10^{9}$ transistors per CPU greater than the actual number of transistors per CPU in 2015, $4 \\times 10^{9}$."
   ]
  },
  {
   "cell_type": "markdown",
   "metadata": {},
   "source": [
    "c)"
   ]
  },
  {
   "cell_type": "code",
   "execution_count": 52,
   "metadata": {},
   "outputs": [
    {
     "name": "stdout",
     "output_type": "stream",
     "text": [
      "1.4256672716945757\n"
     ]
    }
   ],
   "source": [
    "#Reverse logarithmic transformation of theta_2\n",
    "actual_theta_2 = np.exp(theta_hat[1][0])\n",
    "print(actual_theta_2)"
   ]
  },
  {
   "cell_type": "markdown",
   "metadata": {},
   "source": [
    "The least squares model predicts the number of transistors per CPU will be multiplied by 1.43 each year. This is lower than Moore's Law, which predicts the doubling of transistors per CPU each year."
   ]
  },
  {
   "cell_type": "code",
   "execution_count": null,
   "metadata": {},
   "outputs": [],
   "source": []
  }
 ],
 "metadata": {
  "kernelspec": {
   "display_name": "Python 3",
   "language": "python",
   "name": "python3"
  },
  "language_info": {
   "codemirror_mode": {
    "name": "ipython",
    "version": 3
   },
   "file_extension": ".py",
   "mimetype": "text/x-python",
   "name": "python",
   "nbconvert_exporter": "python",
   "pygments_lexer": "ipython3",
   "version": "3.7.4"
  }
 },
 "nbformat": 4,
 "nbformat_minor": 2
}
