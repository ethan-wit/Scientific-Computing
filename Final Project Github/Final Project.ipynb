{
 "cells": [
  {
   "cell_type": "markdown",
   "metadata": {},
   "source": [
    "# Final Project\n",
    "### Scientific Computing\n",
    "### Ethan Witkowski"
   ]
  },
  {
   "cell_type": "code",
   "execution_count": 120,
   "metadata": {},
   "outputs": [],
   "source": [
    "#Data structures packages\n",
    "import numpy as np\n",
    "import pandas as pd\n",
    "import itertools\n",
    "import math\n",
    "\n",
    "#Statistical packages\n",
    "import statsmodels.api as sm\n",
    "import statsmodels.formula.api as smf\n",
    "from linearmodels import PanelOLS\n",
    "from linearmodels import PooledOLS\n",
    "\n",
    "#Visualization packages\n",
    "import seaborn as sns\n",
    "import matplotlib.pyplot as plt"
   ]
  },
  {
   "cell_type": "code",
   "execution_count": 2,
   "metadata": {},
   "outputs": [],
   "source": [
    "#Import .dta dataset\n",
    "data = pd.read_stata(r'C:\\Users\\ethan\\Desktop\\Swarthmore\\Fall 2019\\Scientific Computing\\Final Project\\CMPS Data\\1ccn3rdg2_145441\\BCMC_CMPS\\CMPS Bell Cingranelli Murdie replication file quarterly dataset from online appendix.dta', convert_dates=True, convert_categoricals=True)"
   ]
  },
  {
   "cell_type": "code",
   "execution_count": 3,
   "metadata": {},
   "outputs": [],
   "source": [
    "#display(data.columns.values)\n",
    "#display(data)"
   ]
  },
  {
   "cell_type": "markdown",
   "metadata": {},
   "source": [
    "### Function to match observations with numeric time"
   ]
  },
  {
   "cell_type": "code",
   "execution_count": 4,
   "metadata": {},
   "outputs": [],
   "source": [
    "'''\n",
    "Panel data is formatted with one column as 'year' and another as 'quarter' -- there is no \\\n",
    "running time from 1990 to 2009\n",
    "'''\n",
    "\n",
    "try:\n",
    "    def running_time(data):\n",
    "        \n",
    "        #Create running time column from 1990 to 2009\n",
    "        time = np.empty(len(data.quarter))\n",
    "\n",
    "        #Declare lists of quarters and translation to numeric quarters\n",
    "        quarter_list = np.arange(1,5)\n",
    "        translation_list = np.array([.25, .5, .75, .99])\n",
    "\n",
    "        for i,quarter in enumerate(data.quarter):\n",
    "\n",
    "            for j,comp_q in enumerate(quarter_list):\n",
    "\n",
    "                #If the quarter value in dataset is same as quarter_list, assign time value as (year + numeric quarter)\n",
    "                if (data.quarter[i] == comp_q):\n",
    "                    time[i] = data.year[i] + translation_list[j]\n",
    "    \n",
    "        return time\n",
    "        \n",
    "except:\n",
    "    Print('Error occurred')"
   ]
  },
  {
   "cell_type": "code",
   "execution_count": 5,
   "metadata": {},
   "outputs": [],
   "source": [
    "#Execute funtion running_time, add time to dataframes\n",
    "time = running_time(data)\n",
    "data['time'] = time"
   ]
  },
  {
   "cell_type": "markdown",
   "metadata": {},
   "source": [
    "### Drop observation if country not included in study"
   ]
  },
  {
   "cell_type": "code",
   "execution_count": 39,
   "metadata": {},
   "outputs": [],
   "source": [
    "#List of western nations to be included in study\n",
    "country_list = ['France', 'United States', 'Canada', 'Spain', 'Sweden', 'Belgium', 'Netherlands', 'Finland', 'Germany', \\\n",
    "               'United Kingdom', 'Norway', 'Denmark']\n",
    "\n",
    "df = data[data['country'].isin(country_list)]"
   ]
  },
  {
   "cell_type": "markdown",
   "metadata": {},
   "source": [
    "### Obtains number of violent protests in each country for each quarter"
   ]
  },
  {
   "cell_type": "code",
   "execution_count": 40,
   "metadata": {},
   "outputs": [],
   "source": [
    "'''\n",
    "Important point: not all countries have the same time span for which the number of violent protests were recorded \\\n",
    "and placeholder values were not used in the creation of the original dataset\n",
    "\n",
    "If quarterly placeholders were used, numpy comparison arrays would've been more efficient data structures\n",
    "'''\n",
    "\n",
    "'''\n",
    "Holding lists: \n",
    "-Violent protests per country at given quarter \n",
    "-Quarter/time for each measurement of violent protests per country\n",
    "-Percentage of Internet Users in country at given quarter\n",
    "-Percentage of Mobile Phone subscribers in country at given quarter\n",
    "'''\n",
    "\n",
    "country_vprotests = []\n",
    "time_vprotests = []\n",
    "internet_users = []\n",
    "mobile_subs = []\n",
    "\n",
    "\n",
    "#For each unique country\n",
    "for i, u_country in enumerate(country_list):\n",
    "    \n",
    "    #Sub-lists for each variable\n",
    "    vprotests_per_country = []\n",
    "    time_stamp = []\n",
    "    internet_per_country = []\n",
    "    mobile_per_country = []\n",
    "\n",
    "    #For each observation in dataset\n",
    "    for j,country in enumerate(data.country):\n",
    "        \n",
    "        #Append specified observation data if country matches country list\n",
    "        if country == u_country:\n",
    "            vprotests_per_country.append(data.violprot[j])\n",
    "            time_stamp.append(data.time[j])\n",
    "            internet_per_country.append(data.internet_user_imputed[j])\n",
    "            mobile_per_country.append(data.mobile_sub_imputed[j])\n",
    "            \n",
    "            \n",
    "    #Append each countries' data to inter-nation lists\n",
    "    country_vprotests.append(vprotests_per_country)\n",
    "    time_vprotests.append(time_stamp)\n",
    "    internet_users.append(internet_per_country)\n",
    "    mobile_subs.append(mobile_per_country)"
   ]
  },
  {
   "cell_type": "markdown",
   "metadata": {},
   "source": [
    "### Exploratory Data Visualization"
   ]
  },
  {
   "cell_type": "code",
   "execution_count": 126,
   "metadata": {},
   "outputs": [
    {
     "data": {
      "text/plain": [
       "<function matplotlib.pyplot.show(*args, **kw)>"
      ]
     },
     "execution_count": 126,
     "metadata": {},
     "output_type": "execute_result"
    },
    {
     "data": {
      "image/png": "[encoded data removed]",
      "text/plain": [
       "<Figure size 432x288 with 1 Axes>"
      ]
     },
     "metadata": {
      "needs_background": "light"
     },
     "output_type": "display_data"
    }
   ],
   "source": [
    "#Cross-sectional percent of Mobile subscribers, violent protests\n",
    "\n",
    "for k, num_vprotests in enumerate(country_vprotests):\n",
    "\n",
    "    plt.scatter(mobile_subs[k], num_vprotests, s=3, color='gray')\n",
    "\n",
    "plt.xlabel('Mobile Phone Subscriptions Per 100 Citizens')\n",
    "plt.ylabel('Violent Protests')\n",
    "plt.title('Mobile Phone Subscriptions, Violent Protests in Western Nations 1990-2009')\n",
    "\n",
    "plt.show"
   ]
  },
  {
   "cell_type": "code",
   "execution_count": 127,
   "metadata": {},
   "outputs": [
    {
     "data": {
      "text/plain": [
       "<function matplotlib.pyplot.show(*args, **kw)>"
      ]
     },
     "execution_count": 127,
     "metadata": {},
     "output_type": "execute_result"
    },
    {
     "data": {
      "image/png": "[encoded data removed]",
      "text/plain": [
       "<Figure size 432x288 with 1 Axes>"
      ]
     },
     "metadata": {
      "needs_background": "light"
     },
     "output_type": "display_data"
    }
   ],
   "source": [
    "#Cross-sectional percent of internet users, violent protests\n",
    "\n",
    "for k, num_vprotests in enumerate(country_vprotests):\n",
    "\n",
    "    plt.scatter(internet_users[k], num_vprotests, s=3, color='grey')\n",
    "\n",
    "plt.xlabel('Internet Users')\n",
    "plt.ylabel('Violent Protests')\n",
    "plt.title('Internet Users, Violent Protests in Western Nations 1990-2009')\n",
    "plt.xticks(np.arange(0, 300000000, 100000000))\n",
    "\n",
    "plt.show"
   ]
  },
  {
   "cell_type": "code",
   "execution_count": 108,
   "metadata": {},
   "outputs": [
    {
     "data": {
      "text/plain": [
       "<function matplotlib.pyplot.show(*args, **kw)>"
      ]
     },
     "execution_count": 108,
     "metadata": {},
     "output_type": "execute_result"
    },
    {
     "data": {
      "image/png": "[encoded data removed]",
      "text/plain": [
       "<Figure size 432x288 with 1 Axes>"
      ]
     },
     "metadata": {
      "needs_background": "light"
     },
     "output_type": "display_data"
    }
   ],
   "source": [
    "#Time Series violent protests, comparison to mean\n",
    "\n",
    "#Mean number of protests across all countries for each quarter\n",
    "\n",
    "#Unique times sorted\n",
    "unique_time = list(set(time))\n",
    "unique_time.sort()\n",
    "unique_time = np.array(unique_time)\n",
    "\n",
    "#List to hold all countries' quarter values\n",
    "quarterly_violent_protests = []\n",
    "\n",
    "for k,quarter in enumerate(unique_time):\n",
    "    \n",
    "    #List for each quarter\n",
    "    quarterly_vp = []\n",
    "    \n",
    "    for j,obs in enumerate(df.time):\n",
    "        \n",
    "        if quarter==obs:\n",
    "            quarterly_vp.append(data.violprot[j])\n",
    "    \n",
    "    quarterly_violent_protests.append(quarterly_vp)\n",
    "\n",
    "#Array that holds all countries' violent protest values for each quarter\n",
    "np_quarterly_violent_protests = np.array([np.array(xi) for xi in quarterly_violent_protests])\n",
    "\n",
    "#List to hold mean number of violent protests each quarter\n",
    "mean_quarterly_violent_protests = []\n",
    "\n",
    "for i,quarter in enumerate(np_quarterly_violent_protests):\n",
    "    mean_quarterly_violent_protests.append(np.nanmean(quarter))\n",
    "\n",
    "\n",
    "#Visualize\n",
    "for i,vpro in enumerate(country_vprotests):\n",
    "    plt.plot(time_vprotests[i], vpro, color='black', linewidth = .2)\n",
    "    \n",
    "plt.plot(unique_time, mean_quarterly_violent_protests, color='red', linewidth = 1.2)\n",
    "\n",
    "plt.xlabel('Date')\n",
    "plt.ylabel('Violent Protests')\n",
    "plt.title('Quarterly Violent Protests in Western Nations 1990-2009')\n",
    "plt.xlim(1990,2009)\n",
    "plt.xticks(np.arange(1990, 2009, 2.0))\n",
    "\n",
    "plt.show"
   ]
  },
  {
   "cell_type": "markdown",
   "metadata": {},
   "source": [
    "### Statistical Modeling"
   ]
  },
  {
   "cell_type": "code",
   "execution_count": 76,
   "metadata": {},
   "outputs": [],
   "source": [
    "#Panel data preparation\n",
    "\n",
    "#Copy dataset\n",
    "df_panel = df.copy()\n",
    "\n",
    "#Merge country rows\n",
    "time = pd.Categorical(df_panel.time)\n",
    "df_panel = df_panel.set_index(['country', 'time'])\n",
    "df_panel['time'] = time"
   ]
  },
  {
   "cell_type": "code",
   "execution_count": 77,
   "metadata": {},
   "outputs": [
    {
     "name": "stdout",
     "output_type": "stream",
     "text": [
      "                          PooledOLS Estimation Summary                          \n",
      "================================================================================\n",
      "Dep. Variable:               violprot   R-squared:                        0.5712\n",
      "Estimator:                  PooledOLS   R-squared (Between):              0.9660\n",
      "No. Observations:                 668   R-squared (Within):               0.3068\n",
      "Date:                Sat, Dec 07 2019   R-squared (Overall):              0.5712\n",
      "Time:                        23:33:25   Log-likelihood                   -3032.7\n",
      "Cov. Estimator:            Unadjusted                                           \n",
      "                                        F-statistic:                      67.016\n",
      "Entities:                          12   P-value                           0.0000\n",
      "Avg Obs:                       55.667   Distribution:                  F(13,654)\n",
      "Min Obs:                       7.0000                                           \n",
      "Max Obs:                       76.000   F-statistic (robust):             67.016\n",
      "                                        P-value                           0.0000\n",
      "Time periods:                      76   Distribution:                  F(13,654)\n",
      "Avg Obs:                       8.7895                                           \n",
      "Min Obs:                       2.0000                                           \n",
      "Max Obs:                       11.000                                           \n",
      "                                                                                \n",
      "                                   Parameter Estimates                                   \n",
      "=========================================================================================\n",
      "                       Parameter  Std. Err.     T-stat    P-value    Lower CI    Upper CI\n",
      "-----------------------------------------------------------------------------------------\n",
      "const                     179.98     105.75     1.7019     0.0892     -27.676      387.64\n",
      "tort3                     3.0822     1.8538     1.6626     0.0969     -0.5579      6.7223\n",
      "kill3                    -2.3944     3.0185    -0.7932     0.4279     -8.3215      3.5327\n",
      "disap3                   -74.218     7.0764    -10.488     0.0000     -88.113     -60.322\n",
      "polpris3                 -14.918     2.4065    -6.1990     0.0000     -19.643     -10.193\n",
      "assn3                     3.8003     3.4149     1.1129     0.2662     -2.9051      10.506\n",
      "ef_impute                -1.7446     6.0674    -0.2875     0.7738     -13.658      10.169\n",
      "lngdppercap              -0.8675     6.5652    -0.1321     0.8949     -13.759      12.024\n",
      "mobile_sub_imputed        0.0303     0.0374     0.8079     0.4195     -0.0433      0.1038\n",
      "internet_user_imputed  2.983e-07  3.663e-08     8.1437     0.0000   2.264e-07   3.702e-07\n",
      "mil_pers_tot_imputed   4.097e-06  4.654e-06     0.8804     0.3790  -5.041e-06   1.324e-05\n",
      "lnpop                    -4.3236     2.6834    -1.6113     0.1076     -9.5926      0.9454\n",
      "polity2                  -2.2827     2.8591    -0.7984     0.4249     -7.8969      3.3314\n",
      "lncoverage                11.021     1.4673     7.5108     0.0000      8.1394      13.902\n",
      "=========================================================================================\n"
     ]
    }
   ],
   "source": [
    "#Pooled ordinary least squares regression for panel data\n",
    "\n",
    "#Declare list of regressors\n",
    "exog_vars = ['tort3',  'kill3', 'disap3', 'polpris3', 'assn3',  'ef_impute',  'lngdppercap', 'mobile_sub_imputed', 'internet_user_imputed', 'mil_pers_tot_imputed', 'lnpop', 'polity2', 'lncoverage']\n",
    "\n",
    "#Add regressors to panel\n",
    "exog = sm.add_constant(df_panel[exog_vars])\n",
    "\n",
    "#Fit model\n",
    "mod = PooledOLS(df_panel.violprot, exog)\n",
    "pooled_res = mod.fit()\n",
    "print(pooled_res)"
   ]
  }
 ],
 "metadata": {
  "kernelspec": {
   "display_name": "Python 3",
   "language": "python",
   "name": "python3"
  },
  "language_info": {
   "codemirror_mode": {
    "name": "ipython",
    "version": 3
   },
   "file_extension": ".py",
   "mimetype": "text/x-python",
   "name": "python",
   "nbconvert_exporter": "python",
   "pygments_lexer": "ipython3",
   "version": "3.7.4"
  }
 },
 "nbformat": 4,
 "nbformat_minor": 2
}
