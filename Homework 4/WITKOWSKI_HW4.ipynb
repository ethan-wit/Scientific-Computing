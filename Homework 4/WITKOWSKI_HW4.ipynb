{
 "cells": [
  {
   "cell_type": "code",
   "execution_count": 1,
   "metadata": {},
   "outputs": [],
   "source": [
    "#Homework 4\n",
    "#Ethan Witkowski"
   ]
  },
  {
   "cell_type": "code",
   "execution_count": 1,
   "metadata": {},
   "outputs": [
    {
     "name": "stdout",
     "output_type": "stream",
     "text": [
      "pygame 1.9.6\n",
      "Hello from the pygame community. https://www.pygame.org/contribute.html\n"
     ]
    }
   ],
   "source": [
    "import numpy as np\n",
    "import random as rnd\n",
    "from statistics import mean\n",
    "from psychopy import visual, core, event"
   ]
  },
  {
   "cell_type": "markdown",
   "metadata": {},
   "source": [
    "# 1"
   ]
  },
  {
   "cell_type": "code",
   "execution_count": 2,
   "metadata": {},
   "outputs": [],
   "source": [
    "#Randomizes sequence of conditions across blocks of an experiement\n",
    "#No consecutive repeats of conditions\n",
    "\n",
    "def exp_randomization(nblocks,nconds):\n",
    "    block_list = []\n",
    "    \n",
    "    #Initialize condition\n",
    "    init_condition = np.random.choice(range(1,nconds+1), size=(1,nconds), replace=False, p=None)\n",
    "    block_list.append(init_condition)\n",
    "\n",
    "    for block in range(nblocks-1):\n",
    "\n",
    "        while True:\n",
    "\n",
    "            #Random condition sequence for current block\n",
    "            condition_list = np.random.choice(range(1,nconds+1), size=(1,nconds), replace=False, p=None)\n",
    "\n",
    "            prior_block = block_list[-1]\n",
    "            \n",
    "            #If consective conditions, choose new random condition\n",
    "            if condition_list[0][0] == prior_block[-1][-1]:\n",
    "                continue    \n",
    "\n",
    "            #Append random condition to list of blocks\n",
    "            else:\n",
    "                block_list.append(condition_list)\n",
    "                break\n",
    "\n",
    "    print(block_list)"
   ]
  },
  {
   "cell_type": "code",
   "execution_count": 3,
   "metadata": {},
   "outputs": [
    {
     "name": "stdout",
     "output_type": "stream",
     "text": [
      "Please input the number of blocks: 3\n",
      "Please input the number of conditions: 3\n"
     ]
    }
   ],
   "source": [
    "nblocks = input(\"Please input the number of blocks: \")\n",
    "nconds = input(\"Please input the number of conditions: \")"
   ]
  },
  {
   "cell_type": "code",
   "execution_count": 6,
   "metadata": {
    "scrolled": false
   },
   "outputs": [
    {
     "name": "stdout",
     "output_type": "stream",
     "text": [
      "[array([[2, 3, 1]]), array([[3, 1, 2]]), array([[3, 2, 1]])]\n"
     ]
    }
   ],
   "source": [
    "nblocks = int(nblocks)\n",
    "nconds = int(nconds)\n",
    "\n",
    "exp_conditions = exp_randomization(nblocks,nconds)"
   ]
  },
  {
   "cell_type": "markdown",
   "metadata": {},
   "source": [
    "# 2"
   ]
  },
  {
   "cell_type": "code",
   "execution_count": 7,
   "metadata": {},
   "outputs": [],
   "source": [
    "#Read-in file\n",
    "f = open('midterm_catfr_data.txt', 'r')\n",
    "full_data = f.readlines()\n",
    "f.close()"
   ]
  },
  {
   "cell_type": "code",
   "execution_count": 8,
   "metadata": {},
   "outputs": [
    {
     "name": "stdout",
     "output_type": "stream",
     "text": [
      "['R1449T', 'catFR1', '1', '12', '12', 'DOVE', 'Birds', '1']\n"
     ]
    }
   ],
   "source": [
    "#Remove spacing elements, transfer to list\n",
    "for i, observation in enumerate(full_data):\n",
    "    full_data[i] = observation.strip().split(',')\n",
    "    \n",
    "print(full_data[i])"
   ]
  },
  {
   "cell_type": "code",
   "execution_count": 9,
   "metadata": {},
   "outputs": [],
   "source": [
    "#list to hold variable values\n",
    "data = []\n",
    "\n",
    "for i in range(len(full_data[0])):              \n",
    "    data.append([])                   #Create new list for each variable\n",
    "\n",
    "    for sub_list in full_data:\n",
    "        data[i].append(sub_list[i])   #Append ith element in sub_list to correct variable\n",
    "\n",
    "#Declare variable names\n",
    "subjects, experiment, sess, list_number, serial_position, word_pres, category, recall = data\n",
    "\n",
    "#List of unique categories\n",
    "unique_category = list(set(category))\n",
    "\n",
    "#List of unique subjects\n",
    "unique_subjects = list(set(subjects))"
   ]
  },
  {
   "cell_type": "code",
   "execution_count": 10,
   "metadata": {},
   "outputs": [],
   "source": [
    "#Trial level data np arrays\n",
    "\n",
    "np_categories = np.array(category)\n",
    "np_subjects = np.array(subjects)\n",
    "np_recall = np.array(recall)\n",
    "\n",
    "#Unique categories/subjects\n",
    "np_u_categories = np.unique(np_categories)\n",
    "np_u_subjects = np.unique(np_subjects)"
   ]
  },
  {
   "cell_type": "code",
   "execution_count": 11,
   "metadata": {},
   "outputs": [],
   "source": [
    "#Pre-allocate 2d array to store means of each subjects/category\n",
    "\n",
    "np_subjects_mean_recall_by_cat = np.empty([186,26])"
   ]
  },
  {
   "cell_type": "code",
   "execution_count": 12,
   "metadata": {},
   "outputs": [],
   "source": [
    "#Obtain each subject's performance recall for each category\n",
    "\n",
    "for i,u_subjects in enumerate(np_u_subjects):\n",
    "    \n",
    "    for j,u_categories in enumerate(np_u_categories):\n",
    "        \n",
    "        #Inner np.logical_and: 70,000 long, True if subj/cat match loops\n",
    "        subj_and_cat_match = np.logical_and(np_subjects==u_subjects,np_categories==u_categories)\n",
    "        \n",
    "        #indexing np_recall with True, gives us 0/1s for each subject for each category\n",
    "        recall_index = np_recall[subj_and_cat_match]\n",
    "        \n",
    "        #Convert to float\n",
    "        recall_index = recall_index.astype(np.float)\n",
    "        \n",
    "        #Given recall values, taking the mean gives us their performance recall\n",
    "        #Place in numpy array corresponding to subject/category\n",
    "        if len(recall_index) > 0:\n",
    "            np_subjects_mean_recall_by_cat[i,j] = np.mean(recall_index)\n",
    "            \n",
    "        else:\n",
    "            continue"
   ]
  },
  {
   "cell_type": "code",
   "execution_count": 13,
   "metadata": {},
   "outputs": [
    {
     "data": {
      "text/plain": [
       "(26, 186)"
      ]
     },
     "execution_count": 13,
     "metadata": {},
     "output_type": "execute_result"
    }
   ],
   "source": [
    "#Transpose for arrays to represent categories, elements in arrays the mean recall for each subject\n",
    "np_t_subjects_mean_recall_by_cat = np.transpose(np_subjects_mean_recall_by_cat)\n",
    "np.shape(np_t_subjects_mean_recall_by_cat)"
   ]
  },
  {
   "cell_type": "code",
   "execution_count": 14,
   "metadata": {},
   "outputs": [],
   "source": [
    "#Pre-allocate matrix of correlation coefficients for each subject for each category\n",
    "\n",
    "corr_cat_matrix = np.empty([26,26])\n",
    "corr_cat_matrix[:] = np.nan"
   ]
  },
  {
   "cell_type": "code",
   "execution_count": 15,
   "metadata": {},
   "outputs": [
    {
     "name": "stdout",
     "output_type": "stream",
     "text": [
      "26\n",
      "26\n",
      "[[ 1.          0.33620532  0.47344002  0.57628744  0.44385186  0.40555807\n",
      "   0.34773137  0.3012153  -0.02958102  0.39140204  0.37793233  0.44829428\n",
      "   0.44017189  0.32723223  0.49451358  0.41945275  0.45664382  0.25059239\n",
      "   0.41820855  0.47016521  0.43204532  0.35789562  0.32501954  0.30467306\n",
      "   0.33924985  0.42425596]\n",
      " [ 0.33620532  1.          0.31899512  0.51651602  0.35514625  0.36644797\n",
      "   0.42716067  0.27507438 -0.02172599  0.48325054  0.36920256  0.42352439\n",
      "   0.37505843  0.38715487  0.44214568  0.40236885  0.4638761   0.36101879\n",
      "   0.49222841  0.35074932  0.47487193  0.39731933  0.22278141  0.43071002\n",
      "   0.42488471  0.3419053 ]\n",
      " [ 0.47344002  0.31899512  1.          0.40527716  0.49067997  0.34963534\n",
      "   0.39285716  0.177379    0.03746076  0.4406243   0.42250268  0.43289163\n",
      "   0.42228666  0.31725066  0.34008002  0.34785715  0.4586931   0.35041043\n",
      "   0.36173086  0.42301312  0.3144575   0.35951562  0.23255939  0.35043107\n",
      "   0.34507766  0.45759506]\n",
      " [ 0.57628744  0.51651602  0.40527716  1.          0.47016072  0.49718649\n",
      "   0.34162659  0.21059127  0.10666452  0.50754669  0.38329172  0.51270019\n",
      "   0.44902882  0.37371539  0.49095177  0.35405047  0.48754442  0.33168236\n",
      "   0.44021906  0.42580337  0.43635995  0.34652381  0.32840947  0.36683628\n",
      "   0.39441992  0.38170724]\n",
      " [ 0.44385186  0.35514625  0.49067997  0.47016072  1.          0.45633865\n",
      "   0.37618938  0.2951877   0.06517999  0.40150408  0.38548085  0.32989218\n",
      "   0.564482    0.44900484  0.42572589  0.37523041  0.54705993  0.38735636\n",
      "   0.40958108  0.42169103  0.41475756  0.35507993  0.33204416  0.3900047\n",
      "   0.37988848  0.41700677]\n",
      " [ 0.40555807  0.36644797  0.34963534  0.49718649  0.45633865  1.\n",
      "   0.46607236  0.34383497  0.15669772  0.4398363   0.3876267   0.47514801\n",
      "   0.43919993  0.37875284  0.33616597  0.38181709  0.45011806  0.34902374\n",
      "   0.4054882   0.41642432  0.45844922  0.47348609  0.24964651  0.4046647\n",
      "   0.36936625  0.29433596]\n",
      " [ 0.34773137  0.42716067  0.39285716  0.34162659  0.37618938  0.46607236\n",
      "   1.          0.33963767  0.10057694  0.49148873  0.41856581  0.44141034\n",
      "   0.40017702  0.36453418  0.3980534   0.41675827  0.46737737  0.43745591\n",
      "   0.44116727  0.34175616  0.34812152  0.38204354  0.33979611  0.56949023\n",
      "   0.44734686  0.37725506]\n",
      " [ 0.3012153   0.27507438  0.177379    0.21059127  0.2951877   0.34383497\n",
      "   0.33963767  1.          0.14370276  0.23967848  0.18865235  0.14949167\n",
      "   0.20909858  0.27979639  0.17737122  0.23855989  0.23616107  0.17465397\n",
      "   0.37587673  0.32397789  0.27963586  0.2149836   0.155632    0.26071862\n",
      "   0.35672164  0.21028487]\n",
      " [-0.02958102 -0.02172599  0.03746076  0.10666452  0.06517999  0.15669772\n",
      "   0.10057694  0.14370276  1.          0.12884684 -0.01970788 -0.0154581\n",
      "   0.06816997  0.14476875  0.09080619 -0.01655157 -0.02766082  0.04772994\n",
      "   0.03772168  0.18770901  0.01069582  0.19976065  0.11202823  0.148186\n",
      "   0.03005424 -0.0587806 ]\n",
      " [ 0.39140204  0.48325054  0.4406243   0.50754669  0.40150408  0.4398363\n",
      "   0.49148873  0.23967848  0.12884684  1.          0.47019726  0.50960969\n",
      "   0.40536187  0.49177847  0.39037419  0.45121158  0.59957798  0.42406252\n",
      "   0.44899236  0.42478112  0.44888547  0.41280475  0.32649194  0.46960816\n",
      "   0.38240919  0.45133378]\n",
      " [ 0.37793233  0.36920256  0.42250268  0.38329172  0.38548085  0.3876267\n",
      "   0.41856581  0.18865235 -0.01970788  0.47019726  1.          0.34276033\n",
      "   0.48932317  0.46995025  0.38895762  0.61639207  0.55420142  0.40008599\n",
      "   0.38921059  0.38732316  0.38440385  0.53969463  0.3195792   0.4569279\n",
      "   0.34173335  0.36874778]\n",
      " [ 0.44829428  0.42352439  0.43289163  0.51270019  0.32989218  0.47514801\n",
      "   0.44141034  0.14949167 -0.0154581   0.50960969  0.34276033  1.\n",
      "   0.34806851  0.38588787  0.37020844  0.20727429  0.46818432  0.32655948\n",
      "   0.43343204  0.34701068  0.35913978  0.28790054  0.25224029  0.3435722\n",
      "   0.27433844  0.40132481]\n",
      " [ 0.44017189  0.37505843  0.42228666  0.44902882  0.564482    0.43919993\n",
      "   0.40017702  0.20909858  0.06816997  0.40536187  0.48932317  0.34806851\n",
      "   1.          0.48436195  0.382899    0.41917533  0.50937024  0.40008781\n",
      "   0.42580919  0.46330196  0.40741774  0.4066558   0.34102969  0.45158042\n",
      "   0.45633677  0.39571153]\n",
      " [ 0.32723223  0.38715487  0.31725066  0.37371539  0.44900484  0.37875284\n",
      "   0.36453418  0.27979639  0.14476875  0.49177847  0.46995025  0.38588787\n",
      "   0.48436195  1.          0.45619063  0.41030819  0.52455002  0.4972402\n",
      "   0.4398541   0.44933431  0.38766664  0.40173284  0.36702232  0.35957653\n",
      "   0.40409307  0.4505299 ]\n",
      " [ 0.49451358  0.44214568  0.34008002  0.49095177  0.42572589  0.33616597\n",
      "   0.3980534   0.17737122  0.09080619  0.39037419  0.38895762  0.37020844\n",
      "   0.382899    0.45619063  1.          0.42475193  0.37172879  0.31530718\n",
      "   0.39833656  0.40923364  0.36860513  0.42672241  0.48506086  0.33609935\n",
      "   0.33304155  0.34957037]\n",
      " [ 0.41945275  0.40236885  0.34785715  0.35405047  0.37523041  0.38181709\n",
      "   0.41675827  0.23855989 -0.01655157  0.45121158  0.61639207  0.20727429\n",
      "   0.41917533  0.41030819  0.42475193  1.          0.49757571  0.33667087\n",
      "   0.32972122  0.42422611  0.47127507  0.59148506  0.34344466  0.41926515\n",
      "   0.40435689  0.38313535]\n",
      " [ 0.45664382  0.4638761   0.4586931   0.48754442  0.54705993  0.45011806\n",
      "   0.46737737  0.23616107 -0.02766082  0.59957798  0.55420142  0.46818432\n",
      "   0.50937024  0.52455002  0.37172879  0.49757571  1.          0.49444929\n",
      "   0.46714762  0.4935554   0.43126671  0.44605661  0.30344844  0.45517352\n",
      "   0.52322937  0.46061074]\n",
      " [ 0.25059239  0.36101879  0.35041043  0.33168236  0.38735636  0.34902374\n",
      "   0.43745591  0.17465397  0.04772994  0.42406252  0.40008599  0.32655948\n",
      "   0.40008781  0.4972402   0.31530718  0.33667087  0.49444929  1.\n",
      "   0.48629386  0.36998495  0.44949485  0.34069537  0.26256781  0.3995991\n",
      "   0.4592663   0.40825038]\n",
      " [ 0.41820855  0.49222841  0.36173086  0.44021906  0.40958108  0.4054882\n",
      "   0.44116727  0.37587673  0.03772168  0.44899236  0.38921059  0.43343204\n",
      "   0.42580919  0.4398541   0.39833656  0.32972122  0.46714762  0.48629386\n",
      "   1.          0.43464871  0.46504086  0.29401901  0.35462974  0.49125439\n",
      "   0.41647458  0.36960069]\n",
      " [ 0.47016521  0.35074932  0.42301312  0.42580337  0.42169103  0.41642432\n",
      "   0.34175616  0.32397789  0.18770901  0.42478112  0.38732316  0.34701068\n",
      "   0.46330196  0.44933431  0.40923364  0.42422611  0.4935554   0.36998495\n",
      "   0.43464871  1.          0.36763549  0.46826066  0.38498466  0.36390778\n",
      "   0.42677423  0.43252224]\n",
      " [ 0.43204532  0.47487193  0.3144575   0.43635995  0.41475756  0.45844922\n",
      "   0.34812152  0.27963586  0.01069582  0.44888547  0.38440385  0.35913978\n",
      "   0.40741774  0.38766664  0.36860513  0.47127507  0.43126671  0.44949485\n",
      "   0.46504086  0.36763549  1.          0.4834961   0.33324447  0.41897687\n",
      "   0.40481364  0.41025741]\n",
      " [ 0.35789562  0.39731933  0.35951562  0.34652381  0.35507993  0.47348609\n",
      "   0.38204354  0.2149836   0.19976065  0.41280475  0.53969463  0.28790054\n",
      "   0.4066558   0.40173284  0.42672241  0.59148506  0.44605661  0.34069537\n",
      "   0.29401901  0.46826066  0.4834961   1.          0.43143194  0.49736915\n",
      "   0.41904948  0.32995192]\n",
      " [ 0.32501954  0.22278141  0.23255939  0.32840947  0.33204416  0.24964651\n",
      "   0.33979611  0.155632    0.11202823  0.32649194  0.3195792   0.25224029\n",
      "   0.34102969  0.36702232  0.48506086  0.34344466  0.30344844  0.26256781\n",
      "   0.35462974  0.38498466  0.33324447  0.43143194  1.          0.38597107\n",
      "   0.27359943  0.32558325]\n",
      " [ 0.30467306  0.43071002  0.35043107  0.36683628  0.3900047   0.4046647\n",
      "   0.56949023  0.26071862  0.148186    0.46960816  0.4569279   0.3435722\n",
      "   0.45158042  0.35957653  0.33609935  0.41926515  0.45517352  0.3995991\n",
      "   0.49125439  0.36390778  0.41897687  0.49736915  0.38597107  1.\n",
      "   0.43991262  0.34316157]\n",
      " [ 0.33924985  0.42488471  0.34507766  0.39441992  0.37988848  0.36936625\n",
      "   0.44734686  0.35672164  0.03005424  0.38240919  0.34173335  0.27433844\n",
      "   0.45633677  0.40409307  0.33304155  0.40435689  0.52322937  0.4592663\n",
      "   0.41647458  0.42677423  0.40481364  0.41904948  0.27359943  0.43991262\n",
      "   1.          0.44190758]\n",
      " [ 0.42425596  0.3419053   0.45759506  0.38170724  0.41700677  0.29433596\n",
      "   0.37725506  0.21028487 -0.0587806   0.45133378  0.36874778  0.40132481\n",
      "   0.39571153  0.4505299   0.34957037  0.38313535  0.46061074  0.40825038\n",
      "   0.36960069  0.43252224  0.41025741  0.32995192  0.32558325  0.34316157\n",
      "   0.44190758  1.        ]]\n"
     ]
    }
   ],
   "source": [
    "#Place category recall correlation coefficients in matrix\n",
    "\n",
    "for m,cat in enumerate(np_t_subjects_mean_recall_by_cat):\n",
    "\n",
    "    for n,cat_2 in enumerate(np_t_subjects_mean_recall_by_cat):\n",
    "        corr_cat_matrix[m][n] = np.corrcoef(cat,cat_2)[1,0]\n",
    "\n",
    "print(len(corr_cat_matrix))\n",
    "print(len(corr_cat_matrix[0]))\n",
    "print(corr_cat_matrix)"
   ]
  },
  {
   "cell_type": "code",
   "execution_count": 16,
   "metadata": {},
   "outputs": [
    {
     "name": "stdout",
     "output_type": "stream",
     "text": [
      "The maximum correlation coefficient is 0.6163920742941553\n",
      "The pair of categories with the highest correlation in recall performance is: \n",
      "Flowers and KitchenTools\n"
     ]
    }
   ],
   "source": [
    "#Find maximum correlation coefficient, pair of categories\n",
    "\n",
    "corr_max = 0\n",
    "\n",
    "for i,corr_array in enumerate(corr_cat_matrix):\n",
    "    \n",
    "    for j,corr_value in enumerate(corr_array):\n",
    "        if (corr_value > corr_max) & (corr_value < 0.99999):\n",
    "            corr_max = corr_value\n",
    "            max_i_index = (i)\n",
    "            max_j_index = (j)\n",
    "        else:\n",
    "            continue\n",
    "\n",
    "print(\"The maximum correlation coefficient is \" + str(corr_max))\n",
    "\n",
    "print(\"The pair of categories with the highest correlation in recall performance is: \") \n",
    "print(str(np_u_categories[max_i_index]) + \" and \" + str(np_u_categories[max_j_index]))"
   ]
  },
  {
   "cell_type": "code",
   "execution_count": 17,
   "metadata": {},
   "outputs": [
    {
     "name": "stdout",
     "output_type": "stream",
     "text": [
      "The minimum correlation coefficient is 0.010695817917302466\n",
      "The pair of categories with the lowest correlation in recall performance is: \n",
      "Fabric and Toys\n"
     ]
    }
   ],
   "source": [
    "#Find minimum correlation coefficient, pair of categories\n",
    "\n",
    "corr_min = 2\n",
    "\n",
    "for i,corr_array in enumerate(corr_cat_matrix):\n",
    "    \n",
    "    for j,corr_value in enumerate(corr_array):\n",
    "        if (abs(corr_value) < abs(corr_min)):\n",
    "            corr_min = corr_value\n",
    "            min_i_index = (i)\n",
    "            min_j_index = (j)\n",
    "        else:\n",
    "            continue\n",
    "\n",
    "print(\"The minimum correlation coefficient is \" + str(corr_min))\n",
    "\n",
    "print(\"The pair of categories with the lowest correlation in recall performance is: \") \n",
    "print(str(np_u_categories[min_i_index]) + \" and \" + str(np_u_categories[min_j_index]))"
   ]
  },
  {
   "cell_type": "markdown",
   "metadata": {},
   "source": [
    "# 3"
   ]
  },
  {
   "cell_type": "code",
   "execution_count": 2,
   "metadata": {},
   "outputs": [
    {
     "name": "stdout",
     "output_type": "stream",
     "text": [
      "Please input the number of targets: 5\n",
      "Please input the number of lures: 5\n"
     ]
    }
   ],
   "source": [
    "#Read-in word list\n",
    "f = open('wordpool.txt')\n",
    "words = f.read().splitlines()\n",
    "f.close()\n",
    "\n",
    "#Set number of targets\n",
    "ntargets = input(\"Please input the number of targets: \")\n",
    "ntargets = int(ntargets)\n",
    "\n",
    "#Set number of lures\n",
    "nlures = input(\"Please input the number of lures: \")\n",
    "nlures = int(nlures)"
   ]
  },
  {
   "cell_type": "code",
   "execution_count": 19,
   "metadata": {},
   "outputs": [
    {
     "name": "stdout",
     "output_type": "stream",
     "text": [
      "['CARRY', 'THEATER', 'CONTAIN', 'LONELY', 'OPEN']\n",
      "['EMBRACE', 'COLONEL', 'IDLE', 'CORRECT', 'RELEASE']\n"
     ]
    }
   ],
   "source": [
    "#Randomly select targets and lures\n",
    "\n",
    "#Randomly shuffle words, choose targets, delete chosen targets\n",
    "rnd.shuffle(words)\n",
    "targets = words[:ntargets]\n",
    "del words[:ntargets]\n",
    "print(targets)\n",
    "\n",
    "#Randomly shuffle remaining words, choose lures\n",
    "rnd.shuffle(words)\n",
    "lures = words[:nlures]\n",
    "del words[:nlures]\n",
    "print(lures)\n",
    "\n",
    "#Reset list of words\n",
    "f = open('wordpool.txt')\n",
    "words = f.read().splitlines()\n",
    "f.close()"
   ]
  },
  {
   "cell_type": "code",
   "execution_count": 20,
   "metadata": {},
   "outputs": [
    {
     "name": "stdout",
     "output_type": "stream",
     "text": [
      "['CARRY', 'THEATER', 'CONTAIN', 'LONELY', 'OPEN', 'EMBRACE', 'COLONEL', 'IDLE', 'CORRECT', 'RELEASE']\n",
      "['IDLE', 'CARRY', 'OPEN', 'RELEASE', 'COLONEL', 'EMBRACE', 'LONELY', 'CORRECT', 'CONTAIN', 'THEATER']\n"
     ]
    }
   ],
   "source": [
    "#List of randomly selected targets/lures presented during test phase\n",
    "\n",
    "#Concatenate lists of targets and lures\n",
    "test_words = targets + lures\n",
    "print(test_words)\n",
    "\n",
    "#Randomly shuffle words\n",
    "rnd.shuffle(test_words)\n",
    "print(test_words)\n",
    "\n",
    "#Pre-allocate numpy array for responses\n",
    "responses = np.empty([1,len(test_words)], dtype = \"object\")\n",
    "\n",
    "#Pre-allocate list of results\n",
    "results = np.empty([1,len(test_words)], dtype = \"object\")"
   ]
  },
  {
   "cell_type": "code",
   "execution_count": 23,
   "metadata": {},
   "outputs": [
    {
     "name": "stdout",
     "output_type": "stream",
     "text": [
      "194.4218 \tWARNING \tMonitor specification not found. Creating a temporary one...\n",
      "[['k' 'k' 'j' 'k' 'k' 'k' 'j' 'k' 'j' 'j']]\n",
      "[['correct rejection' 'miss' 'hit' 'correct rejection'\n",
      "  'correct rejection' 'correct rejection' 'hit' 'correct rejection' 'hit'\n",
      "  'hit']]\n",
      "The hit rate is 0.8\n",
      "The false alarm rate is 0.0\n"
     ]
    }
   ],
   "source": [
    "#Experiment\n",
    "#Encoding phase\n",
    "\n",
    "#Create window\n",
    "win = visual.Window([400,400])\n",
    "\n",
    "#Show target words to participant with 1-second delay\n",
    "for target in targets:\n",
    "    stim = visual.TextStim(win,text=target.rstrip('\\n'))\n",
    "    stim.draw()\n",
    "    win.flip()\n",
    "    core.wait(1)\n",
    "    \n",
    "#Intermediate phase\n",
    "\n",
    "#Present window asking participant to input 'i' to move to test phase\n",
    "stim = visual.TextStim(win,text='In the test phase, pressing \"j\" indicates a word shown in the encoding phase. Pressing \"k\" indicates a word not shown in the encoding phase. Please press \"i\" to show your understanding.')\n",
    "stim.draw()\n",
    "win.flip()\n",
    "pressedkey = event.waitKeys(keyList = [\"i\"])\n",
    "if pressedkey[0] == 'i':\n",
    "    win.flip()\n",
    "    core.wait(1)\n",
    "    \n",
    "#Test Phase\n",
    "\n",
    "for i,test_word in enumerate(test_words):\n",
    "    stim = visual.TextStim(win,text=test_word.rstrip('\\n'))\n",
    "    stim.draw()\n",
    "    win.flip()\n",
    "    pressedkey = event.waitKeys(keyList = [\"j\", \"k\"])\n",
    "    pressedkey = \"\".join(pressedkey)\n",
    "    \n",
    "    responses[0][i] = pressedkey\n",
    "    \n",
    "    \n",
    "    if (responses[0][i] == \"j\") & (test_words[i] in targets):\n",
    "        results[0][i] = str(\"hit\")\n",
    "        \n",
    "    elif (responses[0][i] == \"j\") & (test_words[i] in lures):\n",
    "        results[0][i] = str(\"false alarm\")\n",
    "     \n",
    "    elif (responses[0][i] == \"k\") & (test_words[i] in targets):\n",
    "        results[0][i] = str(\"miss\")\n",
    "    \n",
    "    elif (responses[0][i] == \"k\") & (test_words[i] in lures):\n",
    "        results[0][i] = str(\"correct rejection\")\n",
    "\n",
    "win.close()\n",
    "print(responses)\n",
    "print(results)\n",
    "\n",
    "\n",
    "hit_counter = 0\n",
    "for result in results[0]:\n",
    "    if result == \"hit\":\n",
    "        hit_counter += 1\n",
    "    \n",
    "hit_rate = hit_counter/ntargets\n",
    "print(\"The hit rate is \" + str(hit_rate))\n",
    "\n",
    "false_alarm_counter = 0\n",
    "for result_2 in results[0]:\n",
    "    if result_2 == \"false alarm\":\n",
    "        false_alarm_counter += 1\n",
    "\n",
    "false_alarm_rate = false_alarm_counter/nlures\n",
    "print(\"The false alarm rate is \" + str(false_alarm_rate))"
   ]
  },
  {
   "cell_type": "code",
   "execution_count": null,
   "metadata": {},
   "outputs": [],
   "source": []
  }
 ],
 "metadata": {
  "kernelspec": {
   "display_name": "psypy3",
   "language": "python",
   "name": "psypy3"
  },
  "language_info": {
   "codemirror_mode": {
    "name": "ipython",
    "version": 3
   },
   "file_extension": ".py",
   "mimetype": "text/x-python",
   "name": "python",
   "nbconvert_exporter": "python",
   "pygments_lexer": "ipython3",
   "version": "3.6.9"
  }
 },
 "nbformat": 4,
 "nbformat_minor": 2
}
